{
 "cells": [
  {
   "cell_type": "code",
   "execution_count": 1,
   "metadata": {},
   "outputs": [],
   "source": [
    "import numpy as np\n",
    "import matplotlib.pyplot as plt\n",
    "%matplotlib inline\n",
    "plt.style.use('bmh')\n",
    "\n",
    "import tensorflow as tf\n",
    "from tensorflow import keras\n",
    "import inspect\n",
    "from tqdm import tqdm\n",
    "import pandas as pd"
   ]
  },
  {
   "cell_type": "markdown",
   "metadata": {},
   "source": [
    "#### Load Images"
   ]
  },
  {
   "cell_type": "code",
   "execution_count": 2,
   "metadata": {},
   "outputs": [
    {
     "data": {
      "text/plain": [
       "((6195, 270000), (6195,))"
      ]
     },
     "execution_count": 2,
     "metadata": {},
     "output_type": "execute_result"
    }
   ],
   "source": [
    "X_train_full = np.load('data_train.npy').T\n",
    "t_train_full = np.load('labels_train.npy')\n",
    "\n",
    "X_train_full.shape, t_train_full.shape"
   ]
  },
  {
   "cell_type": "code",
   "execution_count": 3,
   "metadata": {},
   "outputs": [
    {
     "data": {
      "text/plain": [
       "((4212, 300, 300, 3), (4212,), (1053, 300, 300, 3), (1053,), 10)"
      ]
     },
     "execution_count": 3,
     "metadata": {},
     "output_type": "execute_result"
    }
   ],
   "source": [
    "from sklearn.model_selection import train_test_split\n",
    "\n",
    "# Training and Test sets\n",
    "X_training, X_test, t_training, t_test = train_test_split(X_train_full, t_train_full, shuffle=True, stratify=t_train_full, test_size=0.15)\n",
    "# Train/Learn and validation sets\n",
    "X_train, X_val, t_train, t_val = train_test_split(X_training, t_training, shuffle=True, stratify=t_training, test_size=0.2)\n",
    "\n",
    "X_train = X_train.reshape((X_train.shape[0],300,300,3))\n",
    "X_val = X_val.reshape((X_val.shape[0],300,300,3))\n",
    "X_test = X_test.reshape((X_test.shape[0],300,300,3))\n",
    "\n",
    "class_names = ['Stop',\n",
    "               'Yield',\n",
    "               'Red Light',\n",
    "               'Green Light',\n",
    "               'Roundabout',\n",
    "               'Right Turn Only',\n",
    "               'Do Not Enter',\n",
    "               'Crosswalk',\n",
    "               'Handicap Parking',\n",
    "               'No Parking']\n",
    "\n",
    "class_num = len(class_names)\n",
    "\n",
    "X_train.shape, t_train.shape, X_val.shape, t_val.shape, class_num"
   ]
  },
  {
   "cell_type": "code",
   "execution_count": 4,
   "metadata": {},
   "outputs": [
    {
     "name": "stdout",
     "output_type": "stream",
     "text": [
      "Metal device set to: Apple M1 Max\n",
      "\n",
      "systemMemory: 32.00 GB\n",
      "maxCacheSize: 10.67 GB\n",
      "\n"
     ]
    },
    {
     "name": "stderr",
     "output_type": "stream",
     "text": [
      "2022-07-27 12:55:59.521438: I tensorflow/core/common_runtime/pluggable_device/pluggable_device_factory.cc:305] Could not identify NUMA node of platform GPU ID 0, defaulting to 0. Your kernel may not have been built with NUMA support.\n",
      "2022-07-27 12:55:59.521586: I tensorflow/core/common_runtime/pluggable_device/pluggable_device_factory.cc:271] Created TensorFlow device (/job:localhost/replica:0/task:0/device:GPU:0 with 0 MB memory) -> physical PluggableDevice (device: 0, name: METAL, pci bus id: <undefined>)\n"
     ]
    }
   ],
   "source": [
    "batch_size = 32\n",
    "num_iterations = int(X_train.shape[0] / batch_size)\n",
    "\n",
    "train_dataset = tf.data.Dataset.from_tensor_slices((X_train, t_train))\n",
    "val_dataset = tf.data.Dataset.from_tensor_slices((X_val, t_val))\n",
    "test_dataset = tf.data.Dataset.from_tensor_slices((X_test, t_test))"
   ]
  },
  {
   "cell_type": "code",
   "execution_count": 5,
   "metadata": {},
   "outputs": [
    {
     "data": {
      "text/plain": [
       "131"
      ]
     },
     "execution_count": 5,
     "metadata": {},
     "output_type": "execute_result"
    }
   ],
   "source": [
    "num_iterations"
   ]
  },
  {
   "cell_type": "markdown",
   "metadata": {},
   "source": [
    "#### Get All Models"
   ]
  },
  {
   "cell_type": "code",
   "execution_count": 6,
   "metadata": {},
   "outputs": [],
   "source": [
    "model_dictionary = {m[0]:m[1] for m in inspect.getmembers(tf.keras.applications, inspect.isfunction)}"
   ]
  },
  {
   "cell_type": "markdown",
   "metadata": {},
   "source": [
    "#### Image Preprocessing - taken from: https://towardsdatascience.com/how-to-choose-the-best-keras-pre-trained-model-for-image-classification-b850ca4428d4"
   ]
  },
  {
   "cell_type": "code",
   "execution_count": 7,
   "metadata": {},
   "outputs": [],
   "source": [
    "def normalize_img(image, label, img_size):\n",
    "    # Resize image to the desired img_size and normalize it\n",
    "    # One hot encode the label\n",
    "    image = tf.image.resize(image, img_size)\n",
    "    image = tf.cast(image, tf.float32) / 255.\n",
    "    label = tf.cast(label, tf.uint8)\n",
    "    label = tf.one_hot(label, depth=class_num)\n",
    "    return image, label\n",
    "    \n",
    "def preprocess_data(train, validation, test, batch_size, img_size):\n",
    "    # Apply the normalize_img function on all train and validation data and create batches\n",
    "    train_processed = train.map(lambda image, label: normalize_img(image, label, img_size))\n",
    "    \n",
    "    # If your data is already batched (eg, when using the image_dataset_from_directory function), remove .batch(batch_size)\n",
    "    train_processed = train_processed.batch(batch_size).repeat()\n",
    "    \n",
    "    validation_processed = validation.map(lambda image, label: normalize_img(image, label, img_size))\n",
    "    \n",
    "    # If your data is already batched (eg, when using the image_dataset_from_directory function), remove .batch(batch_size)\n",
    "    validation_processed = validation_processed.batch(batch_size)\n",
    "    \n",
    "    test_processed = test.map(lambda image, label: normalize_img(image, label, img_size))\n",
    "    \n",
    "    # If your data is already batched (eg, when using the image_dataset_from_directory function), remove .batch(batch_size)\n",
    "    test_processed = test_processed.batch(batch_size)\n",
    "    \n",
    "    return train_processed, validation_processed,test_processed\n",
    "    \n",
    "# Run preprocessing\n",
    "train_processed_224, validation_processed_224, test_processed_224 = preprocess_data(train_dataset, val_dataset, test_dataset, batch_size, img_size=[224,224])\n",
    "train_processed_331, validation_processed_331, test_processed_331 = preprocess_data(train_dataset, val_dataset, test_dataset, batch_size, img_size=[331,331])"
   ]
  },
  {
   "cell_type": "markdown",
   "metadata": {},
   "source": [
    "#### Testing"
   ]
  },
  {
   "cell_type": "code",
   "execution_count": 8,
   "metadata": {},
   "outputs": [
    {
     "name": "stderr",
     "output_type": "stream",
     "text": [
      "  0%|          | 0/28 [00:00<?, ?it/s]2022-07-27 12:56:28.605062: W tensorflow/core/platform/profile_utils/cpu_utils.cc:128] Failed to get CPU frequency: 0 Hz\n"
     ]
    },
    {
     "name": "stdout",
     "output_type": "stream",
     "text": [
      "Epoch 1/3\n"
     ]
    },
    {
     "name": "stderr",
     "output_type": "stream",
     "text": [
      "2022-07-27 12:56:30.026267: I tensorflow/core/grappler/optimizers/custom_graph_optimizer_registry.cc:112] Plugin optimizer for device_type GPU is enabled.\n"
     ]
    },
    {
     "name": "stdout",
     "output_type": "stream",
     "text": [
      "131/131 [==============================] - ETA: 0s - loss: 0.9920 - accuracy: 0.7261"
     ]
    },
    {
     "name": "stderr",
     "output_type": "stream",
     "text": [
      "2022-07-27 12:56:44.834625: I tensorflow/core/grappler/optimizers/custom_graph_optimizer_registry.cc:112] Plugin optimizer for device_type GPU is enabled.\n"
     ]
    },
    {
     "name": "stdout",
     "output_type": "stream",
     "text": [
      "131/131 [==============================] - 20s 118ms/step - loss: 0.9920 - accuracy: 0.7261 - val_loss: 0.4959 - val_accuracy: 0.8746\n",
      "Epoch 2/3\n",
      "131/131 [==============================] - 16s 111ms/step - loss: 0.3852 - accuracy: 0.9146 - val_loss: 0.3468 - val_accuracy: 0.9174\n",
      "Epoch 3/3\n",
      "131/131 [==============================] - 15s 117ms/step - loss: 0.2799 - accuracy: 0.9419 - val_loss: 0.2737 - val_accuracy: 0.9383\n"
     ]
    },
    {
     "name": "stderr",
     "output_type": "stream",
     "text": [
      "  4%|▎         | 1/28 [00:52<23:46, 52.83s/it]"
     ]
    },
    {
     "name": "stdout",
     "output_type": "stream",
     "text": [
      "Downloading data from https://storage.googleapis.com/tensorflow/keras-applications/densenet/densenet169_weights_tf_dim_ordering_tf_kernels_notop.h5\n",
      "51879936/51877672 [==============================] - 1s 0us/step\n",
      "51888128/51877672 [==============================] - 1s 0us/step\n",
      "Epoch 1/3\n"
     ]
    },
    {
     "name": "stderr",
     "output_type": "stream",
     "text": [
      "2022-07-27 12:57:24.873952: I tensorflow/core/grappler/optimizers/custom_graph_optimizer_registry.cc:112] Plugin optimizer for device_type GPU is enabled.\n"
     ]
    },
    {
     "name": "stdout",
     "output_type": "stream",
     "text": [
      "131/131 [==============================] - ETA: 0s - loss: 0.8432 - accuracy: 0.7739"
     ]
    },
    {
     "name": "stderr",
     "output_type": "stream",
     "text": [
      "2022-07-27 12:57:40.523066: I tensorflow/core/grappler/optimizers/custom_graph_optimizer_registry.cc:112] Plugin optimizer for device_type GPU is enabled.\n"
     ]
    },
    {
     "name": "stdout",
     "output_type": "stream",
     "text": [
      "131/131 [==============================] - 23s 153ms/step - loss: 0.8432 - accuracy: 0.7739 - val_loss: 0.4131 - val_accuracy: 0.9136\n",
      "Epoch 2/3\n",
      "131/131 [==============================] - 20s 140ms/step - loss: 0.3142 - accuracy: 0.9325 - val_loss: 0.3080 - val_accuracy: 0.9259\n",
      "Epoch 3/3\n",
      "131/131 [==============================] - 19s 146ms/step - loss: 0.2267 - accuracy: 0.9526 - val_loss: 0.2394 - val_accuracy: 0.9468\n"
     ]
    },
    {
     "name": "stderr",
     "output_type": "stream",
     "text": [
      "  7%|▋         | 2/28 [01:57<25:57, 59.89s/it]"
     ]
    },
    {
     "name": "stdout",
     "output_type": "stream",
     "text": [
      "Downloading data from https://storage.googleapis.com/tensorflow/keras-applications/densenet/densenet201_weights_tf_dim_ordering_tf_kernels_notop.h5\n",
      "74842112/74836368 [==============================] - 1s 0us/step\n",
      "74850304/74836368 [==============================] - 1s 0us/step\n",
      "Epoch 1/3\n"
     ]
    },
    {
     "name": "stderr",
     "output_type": "stream",
     "text": [
      "2022-07-27 12:58:31.607552: I tensorflow/core/grappler/optimizers/custom_graph_optimizer_registry.cc:112] Plugin optimizer for device_type GPU is enabled.\n"
     ]
    },
    {
     "name": "stdout",
     "output_type": "stream",
     "text": [
      "131/131 [==============================] - ETA: 0s - loss: 0.8516 - accuracy: 0.7722"
     ]
    },
    {
     "name": "stderr",
     "output_type": "stream",
     "text": [
      "2022-07-27 12:58:52.214146: I tensorflow/core/grappler/optimizers/custom_graph_optimizer_registry.cc:112] Plugin optimizer for device_type GPU is enabled.\n"
     ]
    },
    {
     "name": "stdout",
     "output_type": "stream",
     "text": [
      "131/131 [==============================] - 31s 202ms/step - loss: 0.8516 - accuracy: 0.7722 - val_loss: 0.4170 - val_accuracy: 0.9155\n",
      "Epoch 2/3\n",
      "131/131 [==============================] - 26s 180ms/step - loss: 0.3391 - accuracy: 0.9299 - val_loss: 0.2919 - val_accuracy: 0.9345\n",
      "Epoch 3/3\n",
      "131/131 [==============================] - 24s 186ms/step - loss: 0.2422 - accuracy: 0.9536 - val_loss: 0.2251 - val_accuracy: 0.9516\n"
     ]
    },
    {
     "name": "stderr",
     "output_type": "stream",
     "text": [
      " 11%|█         | 3/28 [03:22<29:44, 71.38s/it]"
     ]
    },
    {
     "name": "stdout",
     "output_type": "stream",
     "text": [
      "Downloading data from https://storage.googleapis.com/keras-applications/efficientnetb0_notop.h5\n",
      "16711680/16705208 [==============================] - 0s 0us/step\n",
      "16719872/16705208 [==============================] - 0s 0us/step\n",
      "Epoch 1/3\n"
     ]
    },
    {
     "name": "stderr",
     "output_type": "stream",
     "text": [
      "2022-07-27 12:59:53.185356: I tensorflow/core/grappler/optimizers/custom_graph_optimizer_registry.cc:112] Plugin optimizer for device_type GPU is enabled.\n"
     ]
    },
    {
     "name": "stdout",
     "output_type": "stream",
     "text": [
      "131/131 [==============================] - ETA: 0s - loss: 2.3164 - accuracy: 0.0997"
     ]
    },
    {
     "name": "stderr",
     "output_type": "stream",
     "text": [
      "2022-07-27 13:00:05.850063: I tensorflow/core/grappler/optimizers/custom_graph_optimizer_registry.cc:112] Plugin optimizer for device_type GPU is enabled.\n"
     ]
    },
    {
     "name": "stdout",
     "output_type": "stream",
     "text": [
      "131/131 [==============================] - 18s 89ms/step - loss: 2.3164 - accuracy: 0.0997 - val_loss: 2.3087 - val_accuracy: 0.0997\n",
      "Epoch 2/3\n",
      "131/131 [==============================] - 10s 75ms/step - loss: 2.3119 - accuracy: 0.1055 - val_loss: 2.3090 - val_accuracy: 0.0997\n",
      "Epoch 3/3\n",
      "131/131 [==============================] - 10s 80ms/step - loss: 2.3103 - accuracy: 0.1110 - val_loss: 2.3057 - val_accuracy: 0.0988\n"
     ]
    },
    {
     "name": "stderr",
     "output_type": "stream",
     "text": [
      " 14%|█▍        | 4/28 [04:03<23:40, 59.17s/it]"
     ]
    },
    {
     "name": "stdout",
     "output_type": "stream",
     "text": [
      "Downloading data from https://storage.googleapis.com/keras-applications/efficientnetb1_notop.h5\n",
      "27025408/27018416 [==============================] - 1s 0us/step\n",
      "27033600/27018416 [==============================] - 1s 0us/step\n",
      "Epoch 1/3\n"
     ]
    },
    {
     "name": "stderr",
     "output_type": "stream",
     "text": [
      "2022-07-27 13:00:35.522060: I tensorflow/core/grappler/optimizers/custom_graph_optimizer_registry.cc:112] Plugin optimizer for device_type GPU is enabled.\n"
     ]
    },
    {
     "name": "stdout",
     "output_type": "stream",
     "text": [
      "131/131 [==============================] - ETA: 0s - loss: 2.3226 - accuracy: 0.1088"
     ]
    },
    {
     "name": "stderr",
     "output_type": "stream",
     "text": [
      "2022-07-27 13:00:49.006875: I tensorflow/core/grappler/optimizers/custom_graph_optimizer_registry.cc:112] Plugin optimizer for device_type GPU is enabled.\n"
     ]
    },
    {
     "name": "stdout",
     "output_type": "stream",
     "text": [
      "131/131 [==============================] - 21s 125ms/step - loss: 2.3226 - accuracy: 0.1088 - val_loss: 2.3150 - val_accuracy: 0.0997\n",
      "Epoch 2/3\n",
      "131/131 [==============================] - 15s 107ms/step - loss: 2.3182 - accuracy: 0.1079 - val_loss: 2.3168 - val_accuracy: 0.0969\n",
      "Epoch 3/3\n",
      "131/131 [==============================] - 14s 111ms/step - loss: 2.3162 - accuracy: 0.1108 - val_loss: 2.3136 - val_accuracy: 0.0997\n"
     ]
    },
    {
     "name": "stderr",
     "output_type": "stream",
     "text": [
      " 18%|█▊        | 5/28 [04:56<21:55, 57.19s/it]"
     ]
    },
    {
     "name": "stdout",
     "output_type": "stream",
     "text": [
      "Downloading data from https://storage.googleapis.com/keras-applications/efficientnetb2_notop.h5\n",
      "31793152/31790344 [==============================] - 1s 0us/step\n",
      "31801344/31790344 [==============================] - 1s 0us/step\n",
      "Epoch 1/3\n"
     ]
    },
    {
     "name": "stderr",
     "output_type": "stream",
     "text": [
      "2022-07-27 13:01:28.420119: I tensorflow/core/grappler/optimizers/custom_graph_optimizer_registry.cc:112] Plugin optimizer for device_type GPU is enabled.\n"
     ]
    },
    {
     "name": "stdout",
     "output_type": "stream",
     "text": [
      "131/131 [==============================] - ETA: 0s - loss: 2.3281 - accuracy: 0.1042"
     ]
    },
    {
     "name": "stderr",
     "output_type": "stream",
     "text": [
      "2022-07-27 13:01:43.680233: I tensorflow/core/grappler/optimizers/custom_graph_optimizer_registry.cc:112] Plugin optimizer for device_type GPU is enabled.\n"
     ]
    },
    {
     "name": "stdout",
     "output_type": "stream",
     "text": [
      "131/131 [==============================] - 23s 138ms/step - loss: 2.3281 - accuracy: 0.1042 - val_loss: 2.3204 - val_accuracy: 0.0997\n",
      "Epoch 2/3\n",
      "131/131 [==============================] - 17s 116ms/step - loss: 2.3226 - accuracy: 0.1110 - val_loss: 2.3192 - val_accuracy: 0.1083\n",
      "Epoch 3/3\n",
      "131/131 [==============================] - 16s 121ms/step - loss: 2.3197 - accuracy: 0.1115 - val_loss: 2.3206 - val_accuracy: 0.0988\n"
     ]
    },
    {
     "name": "stderr",
     "output_type": "stream",
     "text": [
      " 21%|██▏       | 6/28 [05:54<21:03, 57.43s/it]"
     ]
    },
    {
     "name": "stdout",
     "output_type": "stream",
     "text": [
      "Downloading data from https://storage.googleapis.com/keras-applications/efficientnetb3_notop.h5\n",
      "43941888/43941136 [==============================] - 1s 0us/step\n",
      "43950080/43941136 [==============================] - 1s 0us/step\n",
      "Epoch 1/3\n"
     ]
    },
    {
     "name": "stderr",
     "output_type": "stream",
     "text": [
      "2022-07-27 13:02:28.031167: I tensorflow/core/grappler/optimizers/custom_graph_optimizer_registry.cc:112] Plugin optimizer for device_type GPU is enabled.\n"
     ]
    },
    {
     "name": "stdout",
     "output_type": "stream",
     "text": [
      "131/131 [==============================] - ETA: 0s - loss: 2.3382 - accuracy: 0.1000"
     ]
    },
    {
     "name": "stderr",
     "output_type": "stream",
     "text": [
      "2022-07-27 13:02:48.253926: I tensorflow/core/grappler/optimizers/custom_graph_optimizer_registry.cc:112] Plugin optimizer for device_type GPU is enabled.\n"
     ]
    },
    {
     "name": "stdout",
     "output_type": "stream",
     "text": [
      "131/131 [==============================] - 31s 190ms/step - loss: 2.3382 - accuracy: 0.1000 - val_loss: 2.3255 - val_accuracy: 0.0997\n",
      "Epoch 2/3\n",
      "131/131 [==============================] - 22s 153ms/step - loss: 2.3276 - accuracy: 0.1093 - val_loss: 2.3251 - val_accuracy: 0.1026\n",
      "Epoch 3/3\n",
      "131/131 [==============================] - 21s 160ms/step - loss: 2.3229 - accuracy: 0.1117 - val_loss: 2.3333 - val_accuracy: 0.0997\n"
     ]
    },
    {
     "name": "stderr",
     "output_type": "stream",
     "text": [
      " 25%|██▌       | 7/28 [07:12<22:23, 63.96s/it]"
     ]
    },
    {
     "name": "stdout",
     "output_type": "stream",
     "text": [
      "Downloading data from https://storage.googleapis.com/keras-applications/efficientnetb4_notop.h5\n",
      "71688192/71686520 [==============================] - 1s 0us/step\n",
      "71696384/71686520 [==============================] - 1s 0us/step\n",
      "Epoch 1/3\n"
     ]
    },
    {
     "name": "stderr",
     "output_type": "stream",
     "text": [
      "2022-07-27 13:03:46.498276: I tensorflow/core/grappler/optimizers/custom_graph_optimizer_registry.cc:112] Plugin optimizer for device_type GPU is enabled.\n"
     ]
    },
    {
     "name": "stdout",
     "output_type": "stream",
     "text": [
      "131/131 [==============================] - ETA: 0s - loss: 2.3452 - accuracy: 0.0992"
     ]
    },
    {
     "name": "stderr",
     "output_type": "stream",
     "text": [
      "2022-07-27 13:04:11.068682: I tensorflow/core/grappler/optimizers/custom_graph_optimizer_registry.cc:112] Plugin optimizer for device_type GPU is enabled.\n"
     ]
    },
    {
     "name": "stdout",
     "output_type": "stream",
     "text": [
      "131/131 [==============================] - 37s 240ms/step - loss: 2.3452 - accuracy: 0.0992 - val_loss: 2.3364 - val_accuracy: 0.0997\n",
      "Epoch 2/3\n",
      "131/131 [==============================] - 29s 206ms/step - loss: 2.3374 - accuracy: 0.1014 - val_loss: 2.3397 - val_accuracy: 0.0997\n",
      "Epoch 3/3\n",
      "131/131 [==============================] - 27s 204ms/step - loss: 2.3343 - accuracy: 0.1045 - val_loss: 2.3528 - val_accuracy: 0.0997\n"
     ]
    },
    {
     "name": "stderr",
     "output_type": "stream",
     "text": [
      " 29%|██▊       | 8/28 [08:49<24:50, 74.55s/it]"
     ]
    },
    {
     "name": "stdout",
     "output_type": "stream",
     "text": [
      "Downloading data from https://storage.googleapis.com/keras-applications/efficientnetb5_notop.h5\n",
      "115269632/115263384 [==============================] - 2s 0us/step\n",
      "115277824/115263384 [==============================] - 2s 0us/step\n",
      "Epoch 1/3\n"
     ]
    },
    {
     "name": "stderr",
     "output_type": "stream",
     "text": [
      "2022-07-27 13:05:25.357731: I tensorflow/core/grappler/optimizers/custom_graph_optimizer_registry.cc:112] Plugin optimizer for device_type GPU is enabled.\n"
     ]
    },
    {
     "name": "stdout",
     "output_type": "stream",
     "text": [
      "131/131 [==============================] - ETA: 0s - loss: 2.3172 - accuracy: 0.1276"
     ]
    },
    {
     "name": "stderr",
     "output_type": "stream",
     "text": [
      "2022-07-27 13:06:01.678705: I tensorflow/core/grappler/optimizers/custom_graph_optimizer_registry.cc:112] Plugin optimizer for device_type GPU is enabled.\n"
     ]
    },
    {
     "name": "stdout",
     "output_type": "stream",
     "text": [
      "131/131 [==============================] - 54s 342ms/step - loss: 2.3172 - accuracy: 0.1276 - val_loss: 2.2965 - val_accuracy: 0.0997\n",
      "Epoch 2/3\n",
      "131/131 [==============================] - 39s 280ms/step - loss: 2.2808 - accuracy: 0.1469 - val_loss: 2.2645 - val_accuracy: 0.1595\n",
      "Epoch 3/3\n",
      "131/131 [==============================] - 37s 286ms/step - loss: 2.2671 - accuracy: 0.1531 - val_loss: 2.2695 - val_accuracy: 0.1387\n"
     ]
    },
    {
     "name": "stderr",
     "output_type": "stream",
     "text": [
      " 32%|███▏      | 9/28 [11:05<29:39, 93.66s/it]"
     ]
    },
    {
     "name": "stdout",
     "output_type": "stream",
     "text": [
      "Downloading data from https://storage.googleapis.com/keras-applications/efficientnetb6_notop.h5\n",
      "165240832/165234480 [==============================] - 3s 0us/step\n",
      "165249024/165234480 [==============================] - 3s 0us/step\n",
      "Epoch 1/3\n"
     ]
    },
    {
     "name": "stderr",
     "output_type": "stream",
     "text": [
      "2022-07-27 13:07:42.441516: I tensorflow/core/grappler/optimizers/custom_graph_optimizer_registry.cc:112] Plugin optimizer for device_type GPU is enabled.\n"
     ]
    },
    {
     "name": "stdout",
     "output_type": "stream",
     "text": [
      "131/131 [==============================] - ETA: 0s - loss: 2.3326 - accuracy: 0.1100"
     ]
    },
    {
     "name": "stderr",
     "output_type": "stream",
     "text": [
      "2022-07-27 13:08:31.081786: I tensorflow/core/grappler/optimizers/custom_graph_optimizer_registry.cc:112] Plugin optimizer for device_type GPU is enabled.\n"
     ]
    },
    {
     "name": "stdout",
     "output_type": "stream",
     "text": [
      "131/131 [==============================] - 72s 460ms/step - loss: 2.3326 - accuracy: 0.1100 - val_loss: 2.2917 - val_accuracy: 0.1197\n",
      "Epoch 2/3\n",
      "131/131 [==============================] - 55s 396ms/step - loss: 2.3039 - accuracy: 0.1263 - val_loss: 2.2699 - val_accuracy: 0.1263\n",
      "Epoch 3/3\n",
      "131/131 [==============================] - 52s 395ms/step - loss: 2.2944 - accuracy: 0.1311 - val_loss: 2.2779 - val_accuracy: 0.1387\n"
     ]
    },
    {
     "name": "stderr",
     "output_type": "stream",
     "text": [
      " 36%|███▌      | 10/28 [14:09<36:27, 121.54s/it]"
     ]
    },
    {
     "name": "stdout",
     "output_type": "stream",
     "text": [
      "Downloading data from https://storage.googleapis.com/keras-applications/efficientnetb7_notop.h5\n",
      "258080768/258076736 [==============================] - 5s 0us/step\n",
      "258088960/258076736 [==============================] - 5s 0us/step\n",
      "Epoch 1/3\n"
     ]
    },
    {
     "name": "stderr",
     "output_type": "stream",
     "text": [
      "2022-07-27 13:10:51.458247: I tensorflow/core/grappler/optimizers/custom_graph_optimizer_registry.cc:112] Plugin optimizer for device_type GPU is enabled.\n"
     ]
    },
    {
     "name": "stdout",
     "output_type": "stream",
     "text": [
      "131/131 [==============================] - ETA: 0s - loss: 2.3709 - accuracy: 0.0945"
     ]
    },
    {
     "name": "stderr",
     "output_type": "stream",
     "text": [
      "2022-07-27 13:11:52.755828: I tensorflow/core/grappler/optimizers/custom_graph_optimizer_registry.cc:112] Plugin optimizer for device_type GPU is enabled.\n"
     ]
    },
    {
     "name": "stdout",
     "output_type": "stream",
     "text": [
      "131/131 [==============================] - 93s 599ms/step - loss: 2.3709 - accuracy: 0.0945 - val_loss: 2.3704 - val_accuracy: 0.0997\n",
      "Epoch 2/3\n",
      "131/131 [==============================] - 72s 506ms/step - loss: 2.3610 - accuracy: 0.0971 - val_loss: 2.3831 - val_accuracy: 0.0997\n",
      "Epoch 3/3\n",
      "131/131 [==============================] - 64s 487ms/step - loss: 2.3575 - accuracy: 0.1000 - val_loss: 2.3809 - val_accuracy: 0.0997\n"
     ]
    },
    {
     "name": "stderr",
     "output_type": "stream",
     "text": [
      " 39%|███▉      | 11/28 [18:08<44:38, 157.53s/it]"
     ]
    },
    {
     "name": "stdout",
     "output_type": "stream",
     "text": [
      "Downloading data from https://storage.googleapis.com/tensorflow/keras-applications/inception_resnet_v2/inception_resnet_v2_weights_tf_dim_ordering_tf_kernels_notop.h5\n",
      "219062272/219055592 [==============================] - 4s 0us/step\n",
      "219070464/219055592 [==============================] - 4s 0us/step\n",
      "Epoch 1/3\n"
     ]
    },
    {
     "name": "stderr",
     "output_type": "stream",
     "text": [
      "2022-07-27 13:14:45.492064: I tensorflow/core/grappler/optimizers/custom_graph_optimizer_registry.cc:112] Plugin optimizer for device_type GPU is enabled.\n"
     ]
    },
    {
     "name": "stdout",
     "output_type": "stream",
     "text": [
      "131/131 [==============================] - ETA: 0s - loss: 0.9336 - accuracy: 0.7137"
     ]
    },
    {
     "name": "stderr",
     "output_type": "stream",
     "text": [
      "2022-07-27 13:15:18.330825: I tensorflow/core/grappler/optimizers/custom_graph_optimizer_registry.cc:112] Plugin optimizer for device_type GPU is enabled.\n"
     ]
    },
    {
     "name": "stdout",
     "output_type": "stream",
     "text": [
      "131/131 [==============================] - 55s 336ms/step - loss: 0.9336 - accuracy: 0.7137 - val_loss: 0.6070 - val_accuracy: 0.8253\n",
      "Epoch 2/3\n",
      "131/131 [==============================] - 29s 182ms/step - loss: 0.5121 - accuracy: 0.8526 - val_loss: 0.5311 - val_accuracy: 0.8262\n",
      "Epoch 3/3\n",
      "131/131 [==============================] - 25s 191ms/step - loss: 0.4067 - accuracy: 0.8888 - val_loss: 0.3947 - val_accuracy: 0.8870\n"
     ]
    },
    {
     "name": "stderr",
     "output_type": "stream",
     "text": [
      " 43%|████▎     | 12/28 [20:04<38:42, 145.14s/it]"
     ]
    },
    {
     "name": "stdout",
     "output_type": "stream",
     "text": [
      "Downloading data from https://storage.googleapis.com/tensorflow/keras-applications/inception_v3/inception_v3_weights_tf_dim_ordering_tf_kernels_notop.h5\n",
      "87916544/87910968 [==============================] - 2s 0us/step\n",
      "87924736/87910968 [==============================] - 2s 0us/step\n",
      "Epoch 1/3\n"
     ]
    },
    {
     "name": "stderr",
     "output_type": "stream",
     "text": [
      "2022-07-27 13:16:36.317053: I tensorflow/core/grappler/optimizers/custom_graph_optimizer_registry.cc:112] Plugin optimizer for device_type GPU is enabled.\n"
     ]
    },
    {
     "name": "stdout",
     "output_type": "stream",
     "text": [
      "131/131 [==============================] - ETA: 0s - loss: 0.6907 - accuracy: 0.7894"
     ]
    },
    {
     "name": "stderr",
     "output_type": "stream",
     "text": [
      "2022-07-27 13:16:48.368915: I tensorflow/core/grappler/optimizers/custom_graph_optimizer_registry.cc:112] Plugin optimizer for device_type GPU is enabled.\n"
     ]
    },
    {
     "name": "stdout",
     "output_type": "stream",
     "text": [
      "131/131 [==============================] - 20s 127ms/step - loss: 0.6907 - accuracy: 0.7894 - val_loss: 0.3570 - val_accuracy: 0.9012\n",
      "Epoch 2/3\n",
      "131/131 [==============================] - 12s 79ms/step - loss: 0.3190 - accuracy: 0.9153 - val_loss: 0.4243 - val_accuracy: 0.8661\n",
      "Epoch 3/3\n",
      "131/131 [==============================] - 11s 80ms/step - loss: 0.2426 - accuracy: 0.9411 - val_loss: 0.2544 - val_accuracy: 0.9316\n"
     ]
    },
    {
     "name": "stderr",
     "output_type": "stream",
     "text": [
      " 46%|████▋     | 13/28 [20:51<28:50, 115.35s/it]"
     ]
    },
    {
     "name": "stdout",
     "output_type": "stream",
     "text": [
      "Downloading data from https://storage.googleapis.com/tensorflow/keras-applications/mobilenet/mobilenet_1_0_224_tf_no_top.h5\n",
      "17227776/17225924 [==============================] - 0s 0us/step\n",
      "17235968/17225924 [==============================] - 0s 0us/step\n",
      "Epoch 1/3\n"
     ]
    },
    {
     "name": "stderr",
     "output_type": "stream",
     "text": [
      "2022-07-27 13:17:20.144974: I tensorflow/core/grappler/optimizers/custom_graph_optimizer_registry.cc:112] Plugin optimizer for device_type GPU is enabled.\n"
     ]
    },
    {
     "name": "stdout",
     "output_type": "stream",
     "text": [
      "130/131 [============================>.] - ETA: 0s - loss: 0.6772 - accuracy: 0.8031"
     ]
    },
    {
     "name": "stderr",
     "output_type": "stream",
     "text": [
      "2022-07-27 13:17:25.906937: I tensorflow/core/grappler/optimizers/custom_graph_optimizer_registry.cc:112] Plugin optimizer for device_type GPU is enabled.\n"
     ]
    },
    {
     "name": "stdout",
     "output_type": "stream",
     "text": [
      "131/131 [==============================] - 9s 56ms/step - loss: 0.6738 - accuracy: 0.8042 - val_loss: 0.3213 - val_accuracy: 0.9183\n",
      "Epoch 2/3\n",
      "131/131 [==============================] - 6s 41ms/step - loss: 0.2840 - accuracy: 0.9289 - val_loss: 0.2598 - val_accuracy: 0.9316\n",
      "Epoch 3/3\n",
      "131/131 [==============================] - 6s 45ms/step - loss: 0.2080 - accuracy: 0.9533 - val_loss: 0.2076 - val_accuracy: 0.9468\n"
     ]
    },
    {
     "name": "stderr",
     "output_type": "stream",
     "text": [
      " 50%|█████     | 14/28 [21:13<20:18, 87.03s/it] "
     ]
    },
    {
     "name": "stdout",
     "output_type": "stream",
     "text": [
      "Downloading data from https://storage.googleapis.com/tensorflow/keras-applications/mobilenet_v2/mobilenet_v2_weights_tf_dim_ordering_tf_kernels_1.0_224_no_top.h5\n",
      "9412608/9406464 [==============================] - 0s 0us/step\n",
      "9420800/9406464 [==============================] - 0s 0us/step\n",
      "Epoch 1/3\n"
     ]
    },
    {
     "name": "stderr",
     "output_type": "stream",
     "text": [
      "2022-07-27 13:17:42.218164: I tensorflow/core/grappler/optimizers/custom_graph_optimizer_registry.cc:112] Plugin optimizer for device_type GPU is enabled.\n"
     ]
    },
    {
     "name": "stdout",
     "output_type": "stream",
     "text": [
      "130/131 [============================>.] - ETA: 0s - loss: 0.7131 - accuracy: 0.7851"
     ]
    },
    {
     "name": "stderr",
     "output_type": "stream",
     "text": [
      "2022-07-27 13:17:49.911703: I tensorflow/core/grappler/optimizers/custom_graph_optimizer_registry.cc:112] Plugin optimizer for device_type GPU is enabled.\n"
     ]
    },
    {
     "name": "stdout",
     "output_type": "stream",
     "text": [
      "131/131 [==============================] - 12s 75ms/step - loss: 0.7095 - accuracy: 0.7860 - val_loss: 0.4214 - val_accuracy: 0.8794\n",
      "Epoch 2/3\n",
      "131/131 [==============================] - 7s 49ms/step - loss: 0.3215 - accuracy: 0.9177 - val_loss: 0.3459 - val_accuracy: 0.9022\n",
      "Epoch 3/3\n",
      "131/131 [==============================] - 7s 52ms/step - loss: 0.2402 - accuracy: 0.9419 - val_loss: 0.2855 - val_accuracy: 0.9269\n"
     ]
    },
    {
     "name": "stderr",
     "output_type": "stream",
     "text": [
      " 54%|█████▎    | 15/28 [21:41<15:00, 69.25s/it]"
     ]
    },
    {
     "name": "stdout",
     "output_type": "stream",
     "text": [
      "Downloading data from https://storage.googleapis.com/tensorflow/keras-applications/mobilenet_v3/weights_mobilenet_v3_large_224_1.0_float_no_top.h5\n",
      "17612800/17605208 [==============================] - 0s 0us/step\n",
      "17620992/17605208 [==============================] - 0s 0us/step\n",
      "Epoch 1/3\n"
     ]
    },
    {
     "name": "stderr",
     "output_type": "stream",
     "text": [
      "2022-07-27 13:18:11.066134: I tensorflow/core/grappler/optimizers/custom_graph_optimizer_registry.cc:112] Plugin optimizer for device_type GPU is enabled.\n"
     ]
    },
    {
     "name": "stdout",
     "output_type": "stream",
     "text": [
      "130/131 [============================>.] - ETA: 0s - loss: 2.2155 - accuracy: 0.1731"
     ]
    },
    {
     "name": "stderr",
     "output_type": "stream",
     "text": [
      "2022-07-27 13:18:21.677853: I tensorflow/core/grappler/optimizers/custom_graph_optimizer_registry.cc:112] Plugin optimizer for device_type GPU is enabled.\n"
     ]
    },
    {
     "name": "stdout",
     "output_type": "stream",
     "text": [
      "131/131 [==============================] - 17s 96ms/step - loss: 2.2144 - accuracy: 0.1734 - val_loss: 2.1062 - val_accuracy: 0.1994\n",
      "Epoch 2/3\n",
      "131/131 [==============================] - 8s 52ms/step - loss: 2.0706 - accuracy: 0.2426 - val_loss: 2.0371 - val_accuracy: 0.2631\n",
      "Epoch 3/3\n",
      "131/131 [==============================] - 7s 52ms/step - loss: 1.9947 - accuracy: 0.2775 - val_loss: 1.9998 - val_accuracy: 0.2887\n"
     ]
    },
    {
     "name": "stderr",
     "output_type": "stream",
     "text": [
      " 57%|█████▋    | 16/28 [22:14<11:41, 58.49s/it]"
     ]
    },
    {
     "name": "stdout",
     "output_type": "stream",
     "text": [
      "Downloading data from https://storage.googleapis.com/tensorflow/keras-applications/mobilenet_v3/weights_mobilenet_v3_small_224_1.0_float_no_top.h5\n",
      "6701056/6698480 [==============================] - 0s 0us/step\n",
      "6709248/6698480 [==============================] - 0s 0us/step\n",
      "Epoch 1/3\n"
     ]
    },
    {
     "name": "stderr",
     "output_type": "stream",
     "text": [
      "2022-07-27 13:18:46.935246: I tensorflow/core/grappler/optimizers/custom_graph_optimizer_registry.cc:112] Plugin optimizer for device_type GPU is enabled.\n"
     ]
    },
    {
     "name": "stdout",
     "output_type": "stream",
     "text": [
      "131/131 [==============================] - ETA: 0s - loss: 2.2702 - accuracy: 0.1512"
     ]
    },
    {
     "name": "stderr",
     "output_type": "stream",
     "text": [
      "2022-07-27 13:18:55.787981: I tensorflow/core/grappler/optimizers/custom_graph_optimizer_registry.cc:112] Plugin optimizer for device_type GPU is enabled.\n"
     ]
    },
    {
     "name": "stdout",
     "output_type": "stream",
     "text": [
      "131/131 [==============================] - 18s 85ms/step - loss: 2.2702 - accuracy: 0.1512 - val_loss: 2.2147 - val_accuracy: 0.1795\n",
      "Epoch 2/3\n",
      "131/131 [==============================] - 7s 46ms/step - loss: 2.1796 - accuracy: 0.2146 - val_loss: 2.1467 - val_accuracy: 0.2061\n",
      "Epoch 3/3\n",
      "131/131 [==============================] - 6s 43ms/step - loss: 2.1207 - accuracy: 0.2488 - val_loss: 2.1103 - val_accuracy: 0.2184\n"
     ]
    },
    {
     "name": "stderr",
     "output_type": "stream",
     "text": [
      " 61%|██████    | 17/28 [22:46<09:15, 50.53s/it]"
     ]
    },
    {
     "name": "stdout",
     "output_type": "stream",
     "text": [
      "Downloading data from https://storage.googleapis.com/tensorflow/keras-applications/nasnet/NASNet-large-no-top.h5\n",
      "343613440/343610240 [==============================] - 6s 0us/step\n",
      "343621632/343610240 [==============================] - 6s 0us/step\n",
      "Epoch 1/3\n"
     ]
    },
    {
     "name": "stderr",
     "output_type": "stream",
     "text": [
      "2022-07-27 13:19:28.177356: I tensorflow/core/grappler/optimizers/custom_graph_optimizer_registry.cc:112] Plugin optimizer for device_type GPU is enabled.\n"
     ]
    },
    {
     "name": "stdout",
     "output_type": "stream",
     "text": [
      "131/131 [==============================] - ETA: 0s - loss: 1.1551 - accuracy: 0.6753"
     ]
    },
    {
     "name": "stderr",
     "output_type": "stream",
     "text": [
      "2022-07-27 13:21:54.228905: I tensorflow/core/grappler/optimizers/custom_graph_optimizer_registry.cc:112] Plugin optimizer for device_type GPU is enabled.\n"
     ]
    },
    {
     "name": "stdout",
     "output_type": "stream",
     "text": [
      "131/131 [==============================] - 201s 1s/step - loss: 1.1551 - accuracy: 0.6753 - val_loss: 0.7827 - val_accuracy: 0.8063\n",
      "Epoch 2/3\n",
      "131/131 [==============================] - 174s 1s/step - loss: 0.6403 - accuracy: 0.8263 - val_loss: 0.6040 - val_accuracy: 0.8395\n",
      "Epoch 3/3\n",
      "131/131 [==============================] - 171s 1s/step - loss: 0.4898 - accuracy: 0.8691 - val_loss: 0.5179 - val_accuracy: 0.8481\n"
     ]
    },
    {
     "name": "stderr",
     "output_type": "stream",
     "text": [
      " 64%|██████▍   | 18/28 [32:02<33:41, 202.17s/it]"
     ]
    },
    {
     "name": "stdout",
     "output_type": "stream",
     "text": [
      "Downloading data from https://storage.googleapis.com/tensorflow/keras-applications/nasnet/NASNet-mobile-no-top.h5\n",
      "19996672/19993432 [==============================] - 0s 0us/step\n",
      "20004864/19993432 [==============================] - 0s 0us/step\n",
      "Epoch 1/3\n"
     ]
    },
    {
     "name": "stderr",
     "output_type": "stream",
     "text": [
      "2022-07-27 13:28:36.259711: I tensorflow/core/grappler/optimizers/custom_graph_optimizer_registry.cc:112] Plugin optimizer for device_type GPU is enabled.\n"
     ]
    },
    {
     "name": "stdout",
     "output_type": "stream",
     "text": [
      "131/131 [==============================] - ETA: 0s - loss: 1.2094 - accuracy: 0.6348"
     ]
    },
    {
     "name": "stderr",
     "output_type": "stream",
     "text": [
      "2022-07-27 13:28:56.412224: I tensorflow/core/grappler/optimizers/custom_graph_optimizer_registry.cc:112] Plugin optimizer for device_type GPU is enabled.\n"
     ]
    },
    {
     "name": "stdout",
     "output_type": "stream",
     "text": [
      "131/131 [==============================] - 42s 270ms/step - loss: 1.2094 - accuracy: 0.6348 - val_loss: 0.8022 - val_accuracy: 0.7854\n",
      "Epoch 2/3\n",
      "131/131 [==============================] - 22s 123ms/step - loss: 0.6480 - accuracy: 0.8282 - val_loss: 0.6030 - val_accuracy: 0.8243\n",
      "Epoch 3/3\n",
      "131/131 [==============================] - 15s 114ms/step - loss: 0.5008 - accuracy: 0.8667 - val_loss: 0.5133 - val_accuracy: 0.8490\n"
     ]
    },
    {
     "name": "stderr",
     "output_type": "stream",
     "text": [
      " 68%|██████▊   | 19/28 [33:24<24:56, 166.33s/it]"
     ]
    },
    {
     "name": "stdout",
     "output_type": "stream",
     "text": [
      "Downloading data from https://storage.googleapis.com/tensorflow/keras-applications/resnet/resnet101_weights_tf_dim_ordering_tf_kernels_notop.h5\n",
      "171450368/171446536 [==============================] - 3s 0us/step\n",
      "171458560/171446536 [==============================] - 3s 0us/step\n",
      "Epoch 1/3\n"
     ]
    },
    {
     "name": "stderr",
     "output_type": "stream",
     "text": [
      "2022-07-27 13:29:59.262825: I tensorflow/core/grappler/optimizers/custom_graph_optimizer_registry.cc:112] Plugin optimizer for device_type GPU is enabled.\n"
     ]
    },
    {
     "name": "stdout",
     "output_type": "stream",
     "text": [
      "131/131 [==============================] - ETA: 0s - loss: 2.1037 - accuracy: 0.2865"
     ]
    },
    {
     "name": "stderr",
     "output_type": "stream",
     "text": [
      "2022-07-27 13:30:25.987709: I tensorflow/core/grappler/optimizers/custom_graph_optimizer_registry.cc:112] Plugin optimizer for device_type GPU is enabled.\n"
     ]
    },
    {
     "name": "stdout",
     "output_type": "stream",
     "text": [
      "131/131 [==============================] - 41s 279ms/step - loss: 2.1037 - accuracy: 0.2865 - val_loss: 1.9451 - val_accuracy: 0.3875\n",
      "Epoch 2/3\n",
      "131/131 [==============================] - 30s 209ms/step - loss: 1.8197 - accuracy: 0.4440 - val_loss: 1.7542 - val_accuracy: 0.4786\n",
      "Epoch 3/3\n",
      "131/131 [==============================] - 29s 219ms/step - loss: 1.6574 - accuracy: 0.5110 - val_loss: 1.6332 - val_accuracy: 0.4777\n"
     ]
    },
    {
     "name": "stderr",
     "output_type": "stream",
     "text": [
      " 71%|███████▏  | 20/28 [35:10<19:45, 148.14s/it]"
     ]
    },
    {
     "name": "stdout",
     "output_type": "stream",
     "text": [
      "Downloading data from https://storage.googleapis.com/tensorflow/keras-applications/resnet/resnet101v2_weights_tf_dim_ordering_tf_kernels_notop.h5\n",
      "171319296/171317808 [==============================] - 3s 0us/step\n",
      "171327488/171317808 [==============================] - 3s 0us/step\n",
      "Epoch 1/3\n"
     ]
    },
    {
     "name": "stderr",
     "output_type": "stream",
     "text": [
      "2022-07-27 13:31:44.757090: I tensorflow/core/grappler/optimizers/custom_graph_optimizer_registry.cc:112] Plugin optimizer for device_type GPU is enabled.\n"
     ]
    },
    {
     "name": "stdout",
     "output_type": "stream",
     "text": [
      "131/131 [==============================] - ETA: 0s - loss: 0.6544 - accuracy: 0.8182"
     ]
    },
    {
     "name": "stderr",
     "output_type": "stream",
     "text": [
      "2022-07-27 13:32:10.750545: I tensorflow/core/grappler/optimizers/custom_graph_optimizer_registry.cc:112] Plugin optimizer for device_type GPU is enabled.\n"
     ]
    },
    {
     "name": "stdout",
     "output_type": "stream",
     "text": [
      "131/131 [==============================] - 40s 257ms/step - loss: 0.6544 - accuracy: 0.8182 - val_loss: 0.3487 - val_accuracy: 0.9155\n",
      "Epoch 2/3\n",
      "131/131 [==============================] - 28s 195ms/step - loss: 0.2894 - accuracy: 0.9321 - val_loss: 0.2803 - val_accuracy: 0.9345\n",
      "Epoch 3/3\n",
      "131/131 [==============================] - 26s 199ms/step - loss: 0.2145 - accuracy: 0.9490 - val_loss: 0.2429 - val_accuracy: 0.9392\n"
     ]
    },
    {
     "name": "stderr",
     "output_type": "stream",
     "text": [
      " 75%|███████▌  | 21/28 [36:49<15:33, 133.38s/it]"
     ]
    },
    {
     "name": "stdout",
     "output_type": "stream",
     "text": [
      "Downloading data from https://storage.googleapis.com/tensorflow/keras-applications/resnet/resnet152_weights_tf_dim_ordering_tf_kernels_notop.h5\n",
      "234700800/234698864 [==============================] - 4s 0us/step\n",
      "234708992/234698864 [==============================] - 4s 0us/step\n",
      "Epoch 1/3\n"
     ]
    },
    {
     "name": "stderr",
     "output_type": "stream",
     "text": [
      "2022-07-27 13:33:24.466271: I tensorflow/core/grappler/optimizers/custom_graph_optimizer_registry.cc:112] Plugin optimizer for device_type GPU is enabled.\n"
     ]
    },
    {
     "name": "stdout",
     "output_type": "stream",
     "text": [
      "131/131 [==============================] - ETA: 0s - loss: 2.0833 - accuracy: 0.2867"
     ]
    },
    {
     "name": "stderr",
     "output_type": "stream",
     "text": [
      "2022-07-27 13:34:06.628054: I tensorflow/core/grappler/optimizers/custom_graph_optimizer_registry.cc:112] Plugin optimizer for device_type GPU is enabled.\n"
     ]
    },
    {
     "name": "stdout",
     "output_type": "stream",
     "text": [
      "131/131 [==============================] - 63s 406ms/step - loss: 2.0833 - accuracy: 0.2867 - val_loss: 1.9201 - val_accuracy: 0.3647\n",
      "Epoch 2/3\n",
      "131/131 [==============================] - 43s 298ms/step - loss: 1.8014 - accuracy: 0.4273 - val_loss: 1.7336 - val_accuracy: 0.4919\n",
      "Epoch 3/3\n",
      "131/131 [==============================] - 40s 305ms/step - loss: 1.6472 - accuracy: 0.4797 - val_loss: 1.6178 - val_accuracy: 0.4796\n"
     ]
    },
    {
     "name": "stderr",
     "output_type": "stream",
     "text": [
      " 79%|███████▊  | 22/28 [39:21<13:53, 138.96s/it]"
     ]
    },
    {
     "name": "stdout",
     "output_type": "stream",
     "text": [
      "Downloading data from https://storage.googleapis.com/tensorflow/keras-applications/resnet/resnet152v2_weights_tf_dim_ordering_tf_kernels_notop.h5\n",
      "234553344/234545216 [==============================] - 4s 0us/step\n",
      "234561536/234545216 [==============================] - 4s 0us/step\n",
      "Epoch 1/3\n"
     ]
    },
    {
     "name": "stderr",
     "output_type": "stream",
     "text": [
      "2022-07-27 13:35:57.089674: I tensorflow/core/grappler/optimizers/custom_graph_optimizer_registry.cc:112] Plugin optimizer for device_type GPU is enabled.\n"
     ]
    },
    {
     "name": "stdout",
     "output_type": "stream",
     "text": [
      "131/131 [==============================] - ETA: 0s - loss: 0.6832 - accuracy: 0.8061"
     ]
    },
    {
     "name": "stderr",
     "output_type": "stream",
     "text": [
      "2022-07-27 13:36:34.013475: I tensorflow/core/grappler/optimizers/custom_graph_optimizer_registry.cc:112] Plugin optimizer for device_type GPU is enabled.\n"
     ]
    },
    {
     "name": "stdout",
     "output_type": "stream",
     "text": [
      "131/131 [==============================] - 59s 394ms/step - loss: 0.6832 - accuracy: 0.8061 - val_loss: 0.3854 - val_accuracy: 0.9003\n",
      "Epoch 2/3\n",
      "131/131 [==============================] - 41s 283ms/step - loss: 0.3058 - accuracy: 0.9256 - val_loss: 0.3269 - val_accuracy: 0.9088\n",
      "Epoch 3/3\n",
      "131/131 [==============================] - 38s 291ms/step - loss: 0.2317 - accuracy: 0.9462 - val_loss: 0.2645 - val_accuracy: 0.9383\n"
     ]
    },
    {
     "name": "stderr",
     "output_type": "stream",
     "text": [
      " 82%|████████▏ | 23/28 [41:45<11:42, 140.52s/it]"
     ]
    },
    {
     "name": "stdout",
     "output_type": "stream",
     "text": [
      "Downloading data from https://storage.googleapis.com/tensorflow/keras-applications/resnet/resnet50_weights_tf_dim_ordering_tf_kernels_notop.h5\n",
      "94773248/94765736 [==============================] - 2s 0us/step\n",
      "94781440/94765736 [==============================] - 2s 0us/step\n",
      "Epoch 1/3\n"
     ]
    },
    {
     "name": "stderr",
     "output_type": "stream",
     "text": [
      "2022-07-27 13:38:17.823932: I tensorflow/core/grappler/optimizers/custom_graph_optimizer_registry.cc:112] Plugin optimizer for device_type GPU is enabled.\n"
     ]
    },
    {
     "name": "stdout",
     "output_type": "stream",
     "text": [
      "131/131 [==============================] - ETA: 0s - loss: 2.1093 - accuracy: 0.2770"
     ]
    },
    {
     "name": "stderr",
     "output_type": "stream",
     "text": [
      "2022-07-27 13:38:33.758977: I tensorflow/core/grappler/optimizers/custom_graph_optimizer_registry.cc:112] Plugin optimizer for device_type GPU is enabled.\n"
     ]
    },
    {
     "name": "stdout",
     "output_type": "stream",
     "text": [
      "131/131 [==============================] - 24s 159ms/step - loss: 2.1093 - accuracy: 0.2770 - val_loss: 1.9433 - val_accuracy: 0.3789\n",
      "Epoch 2/3\n",
      "131/131 [==============================] - 19s 125ms/step - loss: 1.8356 - accuracy: 0.4196 - val_loss: 1.7559 - val_accuracy: 0.4748\n",
      "Epoch 3/3\n",
      "131/131 [==============================] - 17s 129ms/step - loss: 1.6838 - accuracy: 0.4732 - val_loss: 1.6519 - val_accuracy: 0.4663\n"
     ]
    },
    {
     "name": "stderr",
     "output_type": "stream",
     "text": [
      " 86%|████████▌ | 24/28 [42:49<07:49, 117.45s/it]"
     ]
    },
    {
     "name": "stdout",
     "output_type": "stream",
     "text": [
      "Downloading data from https://storage.googleapis.com/tensorflow/keras-applications/resnet/resnet50v2_weights_tf_dim_ordering_tf_kernels_notop.h5\n",
      "94674944/94668760 [==============================] - 2s 0us/step\n",
      "94683136/94668760 [==============================] - 2s 0us/step\n",
      "Epoch 1/3\n"
     ]
    },
    {
     "name": "stderr",
     "output_type": "stream",
     "text": [
      "2022-07-27 13:39:19.750766: I tensorflow/core/grappler/optimizers/custom_graph_optimizer_registry.cc:112] Plugin optimizer for device_type GPU is enabled.\n"
     ]
    },
    {
     "name": "stdout",
     "output_type": "stream",
     "text": [
      "131/131 [==============================] - ETA: 0s - loss: 0.6725 - accuracy: 0.8163"
     ]
    },
    {
     "name": "stderr",
     "output_type": "stream",
     "text": [
      "2022-07-27 13:39:34.746715: I tensorflow/core/grappler/optimizers/custom_graph_optimizer_registry.cc:112] Plugin optimizer for device_type GPU is enabled.\n"
     ]
    },
    {
     "name": "stdout",
     "output_type": "stream",
     "text": [
      "131/131 [==============================] - 22s 142ms/step - loss: 0.6725 - accuracy: 0.8163 - val_loss: 0.3529 - val_accuracy: 0.9136\n",
      "Epoch 2/3\n",
      "131/131 [==============================] - 15s 107ms/step - loss: 0.2870 - accuracy: 0.9349 - val_loss: 0.2809 - val_accuracy: 0.9297\n",
      "Epoch 3/3\n",
      "131/131 [==============================] - 15s 116ms/step - loss: 0.2168 - accuracy: 0.9522 - val_loss: 0.2325 - val_accuracy: 0.9440\n"
     ]
    },
    {
     "name": "stderr",
     "output_type": "stream",
     "text": [
      " 89%|████████▉ | 25/28 [43:44<04:55, 98.66s/it] "
     ]
    },
    {
     "name": "stdout",
     "output_type": "stream",
     "text": [
      "Downloading data from https://storage.googleapis.com/tensorflow/keras-applications/vgg16/vgg16_weights_tf_dim_ordering_tf_kernels_notop.h5\n",
      "58892288/58889256 [==============================] - 1s 0us/step\n",
      "58900480/58889256 [==============================] - 1s 0us/step\n",
      "Epoch 1/3\n"
     ]
    },
    {
     "name": "stderr",
     "output_type": "stream",
     "text": [
      "2022-07-27 13:40:12.947051: I tensorflow/core/grappler/optimizers/custom_graph_optimizer_registry.cc:112] Plugin optimizer for device_type GPU is enabled.\n"
     ]
    },
    {
     "name": "stdout",
     "output_type": "stream",
     "text": [
      "131/131 [==============================] - ETA: 0s - loss: 1.8135 - accuracy: 0.5592"
     ]
    },
    {
     "name": "stderr",
     "output_type": "stream",
     "text": [
      "2022-07-27 13:40:36.756872: I tensorflow/core/grappler/optimizers/custom_graph_optimizer_registry.cc:112] Plugin optimizer for device_type GPU is enabled.\n"
     ]
    },
    {
     "name": "stdout",
     "output_type": "stream",
     "text": [
      "131/131 [==============================] - 31s 226ms/step - loss: 1.8135 - accuracy: 0.5592 - val_loss: 1.4431 - val_accuracy: 0.7559\n",
      "Epoch 2/3\n",
      "131/131 [==============================] - 29s 220ms/step - loss: 1.1984 - accuracy: 0.7830 - val_loss: 1.0363 - val_accuracy: 0.7996\n",
      "Epoch 3/3\n",
      "131/131 [==============================] - 29s 222ms/step - loss: 0.8928 - accuracy: 0.8246 - val_loss: 0.8260 - val_accuracy: 0.8281\n"
     ]
    },
    {
     "name": "stderr",
     "output_type": "stream",
     "text": [
      " 93%|█████████▎| 26/28 [45:14<03:12, 96.26s/it]"
     ]
    },
    {
     "name": "stdout",
     "output_type": "stream",
     "text": [
      "Downloading data from https://storage.googleapis.com/tensorflow/keras-applications/vgg19/vgg19_weights_tf_dim_ordering_tf_kernels_notop.h5\n",
      "80142336/80134624 [==============================] - 1s 0us/step\n",
      "80150528/80134624 [==============================] - 1s 0us/step\n",
      "Epoch 1/3\n"
     ]
    },
    {
     "name": "stderr",
     "output_type": "stream",
     "text": [
      "2022-07-27 13:41:44.041815: I tensorflow/core/grappler/optimizers/custom_graph_optimizer_registry.cc:112] Plugin optimizer for device_type GPU is enabled.\n"
     ]
    },
    {
     "name": "stdout",
     "output_type": "stream",
     "text": [
      "131/131 [==============================] - ETA: 0s - loss: 1.9054 - accuracy: 0.5203"
     ]
    },
    {
     "name": "stderr",
     "output_type": "stream",
     "text": [
      "2022-07-27 13:42:12.368689: I tensorflow/core/grappler/optimizers/custom_graph_optimizer_registry.cc:112] Plugin optimizer for device_type GPU is enabled.\n"
     ]
    },
    {
     "name": "stdout",
     "output_type": "stream",
     "text": [
      "131/131 [==============================] - 36s 275ms/step - loss: 1.9054 - accuracy: 0.5203 - val_loss: 1.5596 - val_accuracy: 0.7047\n",
      "Epoch 2/3\n",
      "131/131 [==============================] - 35s 268ms/step - loss: 1.3267 - accuracy: 0.7584 - val_loss: 1.1543 - val_accuracy: 0.7854\n",
      "Epoch 3/3\n",
      "131/131 [==============================] - 35s 271ms/step - loss: 1.0120 - accuracy: 0.8043 - val_loss: 0.9275 - val_accuracy: 0.8091\n"
     ]
    },
    {
     "name": "stderr",
     "output_type": "stream",
     "text": [
      " 96%|█████████▋| 27/28 [47:04<01:40, 100.20s/it]"
     ]
    },
    {
     "name": "stdout",
     "output_type": "stream",
     "text": [
      "Epoch 1/3\n"
     ]
    },
    {
     "name": "stderr",
     "output_type": "stream",
     "text": [
      "2022-07-27 13:43:32.906457: I tensorflow/core/grappler/optimizers/custom_graph_optimizer_registry.cc:112] Plugin optimizer for device_type GPU is enabled.\n"
     ]
    },
    {
     "name": "stdout",
     "output_type": "stream",
     "text": [
      "131/131 [==============================] - ETA: 0s - loss: 0.8429 - accuracy: 0.7712"
     ]
    },
    {
     "name": "stderr",
     "output_type": "stream",
     "text": [
      "2022-07-27 13:43:57.887070: I tensorflow/core/grappler/optimizers/custom_graph_optimizer_registry.cc:112] Plugin optimizer for device_type GPU is enabled.\n"
     ]
    },
    {
     "name": "stdout",
     "output_type": "stream",
     "text": [
      "131/131 [==============================] - 32s 236ms/step - loss: 0.8429 - accuracy: 0.7712 - val_loss: 0.5227 - val_accuracy: 0.8642\n",
      "Epoch 2/3\n",
      "131/131 [==============================] - 28s 209ms/step - loss: 0.4234 - accuracy: 0.8902 - val_loss: 0.4122 - val_accuracy: 0.8917\n",
      "Epoch 3/3\n",
      "131/131 [==============================] - 28s 214ms/step - loss: 0.3284 - accuracy: 0.9165 - val_loss: 0.3646 - val_accuracy: 0.9022\n"
     ]
    },
    {
     "name": "stderr",
     "output_type": "stream",
     "text": [
      "100%|██████████| 28/28 [48:33<00:00, 104.06s/it]\n"
     ]
    }
   ],
   "source": [
    "# Loop over each model available in Keras\n",
    "model_benchmarks = {'model_name': [], 'num_model_params': [], 'validation_accuracy': []}\n",
    "\n",
    "for model_name, model in tqdm(model_dictionary.items()):\n",
    "    # Special handling for \"NASNetLarge\" since it requires input images with size (331,331)\n",
    "    if 'NASNetLarge' in model_name:\n",
    "        input_shape=(331,331,3)\n",
    "        train_processed = train_processed_331\n",
    "        validation_processed = validation_processed_331\n",
    "    else:\n",
    "        input_shape=(224,224,3)\n",
    "        train_processed = train_processed_224\n",
    "        validation_processed = validation_processed_224\n",
    "        \n",
    "    # load the pre-trained model with global average pooling as the last layer and freeze the model weights\n",
    "    pre_trained_model = model(include_top=False, pooling='avg', input_shape=input_shape)\n",
    "    pre_trained_model.trainable = False\n",
    "    \n",
    "    # custom modifications on top of pre-trained model and fit\n",
    "    clf_model = tf.keras.models.Sequential()\n",
    "    clf_model.add(pre_trained_model)\n",
    "    clf_model.add(tf.keras.layers.Dense(class_num, activation='softmax'))\n",
    "    clf_model.compile(loss='categorical_crossentropy', metrics=['accuracy'])\n",
    "    history = clf_model.fit(train_processed, epochs=3, validation_data=validation_processed, steps_per_epoch=num_iterations)\n",
    "    \n",
    "    # Calculate all relevant metrics\n",
    "    model_benchmarks['model_name'].append(model_name)\n",
    "    model_benchmarks['num_model_params'].append(pre_trained_model.count_params())\n",
    "    model_benchmarks['validation_accuracy'].append(history.history['val_accuracy'][-1])"
   ]
  },
  {
   "cell_type": "markdown",
   "metadata": {},
   "source": [
    "#### Check Accuracy"
   ]
  },
  {
   "cell_type": "code",
   "execution_count": 9,
   "metadata": {},
   "outputs": [
    {
     "data": {
      "text/html": [
       "<div>\n",
       "<style scoped>\n",
       "    .dataframe tbody tr th:only-of-type {\n",
       "        vertical-align: middle;\n",
       "    }\n",
       "\n",
       "    .dataframe tbody tr th {\n",
       "        vertical-align: top;\n",
       "    }\n",
       "\n",
       "    .dataframe thead th {\n",
       "        text-align: right;\n",
       "    }\n",
       "</style>\n",
       "<table border=\"1\" class=\"dataframe\">\n",
       "  <thead>\n",
       "    <tr style=\"text-align: right;\">\n",
       "      <th></th>\n",
       "      <th>model_name</th>\n",
       "      <th>num_model_params</th>\n",
       "      <th>validation_accuracy</th>\n",
       "    </tr>\n",
       "  </thead>\n",
       "  <tbody>\n",
       "    <tr>\n",
       "      <th>16</th>\n",
       "      <td>MobileNetV3Small</td>\n",
       "      <td>1529968</td>\n",
       "      <td>0.218424</td>\n",
       "    </tr>\n",
       "    <tr>\n",
       "      <th>14</th>\n",
       "      <td>MobileNetV2</td>\n",
       "      <td>2257984</td>\n",
       "      <td>0.926876</td>\n",
       "    </tr>\n",
       "    <tr>\n",
       "      <th>13</th>\n",
       "      <td>MobileNet</td>\n",
       "      <td>3228864</td>\n",
       "      <td>0.946819</td>\n",
       "    </tr>\n",
       "    <tr>\n",
       "      <th>3</th>\n",
       "      <td>EfficientNetB0</td>\n",
       "      <td>4049571</td>\n",
       "      <td>0.098765</td>\n",
       "    </tr>\n",
       "    <tr>\n",
       "      <th>15</th>\n",
       "      <td>MobileNetV3Large</td>\n",
       "      <td>4226432</td>\n",
       "      <td>0.288699</td>\n",
       "    </tr>\n",
       "    <tr>\n",
       "      <th>18</th>\n",
       "      <td>NASNetMobile</td>\n",
       "      <td>4269716</td>\n",
       "      <td>0.849003</td>\n",
       "    </tr>\n",
       "    <tr>\n",
       "      <th>4</th>\n",
       "      <td>EfficientNetB1</td>\n",
       "      <td>6575239</td>\n",
       "      <td>0.099715</td>\n",
       "    </tr>\n",
       "    <tr>\n",
       "      <th>0</th>\n",
       "      <td>DenseNet121</td>\n",
       "      <td>7037504</td>\n",
       "      <td>0.938272</td>\n",
       "    </tr>\n",
       "    <tr>\n",
       "      <th>5</th>\n",
       "      <td>EfficientNetB2</td>\n",
       "      <td>7768569</td>\n",
       "      <td>0.098765</td>\n",
       "    </tr>\n",
       "    <tr>\n",
       "      <th>6</th>\n",
       "      <td>EfficientNetB3</td>\n",
       "      <td>10783535</td>\n",
       "      <td>0.099715</td>\n",
       "    </tr>\n",
       "    <tr>\n",
       "      <th>1</th>\n",
       "      <td>DenseNet169</td>\n",
       "      <td>12642880</td>\n",
       "      <td>0.946819</td>\n",
       "    </tr>\n",
       "    <tr>\n",
       "      <th>25</th>\n",
       "      <td>VGG16</td>\n",
       "      <td>14714688</td>\n",
       "      <td>0.828110</td>\n",
       "    </tr>\n",
       "    <tr>\n",
       "      <th>7</th>\n",
       "      <td>EfficientNetB4</td>\n",
       "      <td>17673823</td>\n",
       "      <td>0.099715</td>\n",
       "    </tr>\n",
       "    <tr>\n",
       "      <th>2</th>\n",
       "      <td>DenseNet201</td>\n",
       "      <td>18321984</td>\n",
       "      <td>0.951567</td>\n",
       "    </tr>\n",
       "    <tr>\n",
       "      <th>26</th>\n",
       "      <td>VGG19</td>\n",
       "      <td>20024384</td>\n",
       "      <td>0.809117</td>\n",
       "    </tr>\n",
       "    <tr>\n",
       "      <th>27</th>\n",
       "      <td>Xception</td>\n",
       "      <td>20861480</td>\n",
       "      <td>0.902184</td>\n",
       "    </tr>\n",
       "    <tr>\n",
       "      <th>12</th>\n",
       "      <td>InceptionV3</td>\n",
       "      <td>21802784</td>\n",
       "      <td>0.931624</td>\n",
       "    </tr>\n",
       "    <tr>\n",
       "      <th>24</th>\n",
       "      <td>ResNet50V2</td>\n",
       "      <td>23564800</td>\n",
       "      <td>0.943970</td>\n",
       "    </tr>\n",
       "    <tr>\n",
       "      <th>23</th>\n",
       "      <td>ResNet50</td>\n",
       "      <td>23587712</td>\n",
       "      <td>0.466287</td>\n",
       "    </tr>\n",
       "    <tr>\n",
       "      <th>8</th>\n",
       "      <td>EfficientNetB5</td>\n",
       "      <td>28513527</td>\n",
       "      <td>0.138651</td>\n",
       "    </tr>\n",
       "    <tr>\n",
       "      <th>9</th>\n",
       "      <td>EfficientNetB6</td>\n",
       "      <td>40960143</td>\n",
       "      <td>0.138651</td>\n",
       "    </tr>\n",
       "    <tr>\n",
       "      <th>20</th>\n",
       "      <td>ResNet101V2</td>\n",
       "      <td>42626560</td>\n",
       "      <td>0.939221</td>\n",
       "    </tr>\n",
       "    <tr>\n",
       "      <th>19</th>\n",
       "      <td>ResNet101</td>\n",
       "      <td>42658176</td>\n",
       "      <td>0.477683</td>\n",
       "    </tr>\n",
       "    <tr>\n",
       "      <th>11</th>\n",
       "      <td>InceptionResNetV2</td>\n",
       "      <td>54336736</td>\n",
       "      <td>0.886990</td>\n",
       "    </tr>\n",
       "    <tr>\n",
       "      <th>22</th>\n",
       "      <td>ResNet152V2</td>\n",
       "      <td>58331648</td>\n",
       "      <td>0.938272</td>\n",
       "    </tr>\n",
       "    <tr>\n",
       "      <th>21</th>\n",
       "      <td>ResNet152</td>\n",
       "      <td>58370944</td>\n",
       "      <td>0.479582</td>\n",
       "    </tr>\n",
       "    <tr>\n",
       "      <th>10</th>\n",
       "      <td>EfficientNetB7</td>\n",
       "      <td>64097687</td>\n",
       "      <td>0.099715</td>\n",
       "    </tr>\n",
       "    <tr>\n",
       "      <th>17</th>\n",
       "      <td>NASNetLarge</td>\n",
       "      <td>84916818</td>\n",
       "      <td>0.848053</td>\n",
       "    </tr>\n",
       "  </tbody>\n",
       "</table>\n",
       "</div>"
      ],
      "text/plain": [
       "           model_name  num_model_params  validation_accuracy\n",
       "16   MobileNetV3Small           1529968             0.218424\n",
       "14        MobileNetV2           2257984             0.926876\n",
       "13          MobileNet           3228864             0.946819\n",
       "3      EfficientNetB0           4049571             0.098765\n",
       "15   MobileNetV3Large           4226432             0.288699\n",
       "18       NASNetMobile           4269716             0.849003\n",
       "4      EfficientNetB1           6575239             0.099715\n",
       "0         DenseNet121           7037504             0.938272\n",
       "5      EfficientNetB2           7768569             0.098765\n",
       "6      EfficientNetB3          10783535             0.099715\n",
       "1         DenseNet169          12642880             0.946819\n",
       "25              VGG16          14714688             0.828110\n",
       "7      EfficientNetB4          17673823             0.099715\n",
       "2         DenseNet201          18321984             0.951567\n",
       "26              VGG19          20024384             0.809117\n",
       "27           Xception          20861480             0.902184\n",
       "12        InceptionV3          21802784             0.931624\n",
       "24         ResNet50V2          23564800             0.943970\n",
       "23           ResNet50          23587712             0.466287\n",
       "8      EfficientNetB5          28513527             0.138651\n",
       "9      EfficientNetB6          40960143             0.138651\n",
       "20        ResNet101V2          42626560             0.939221\n",
       "19          ResNet101          42658176             0.477683\n",
       "11  InceptionResNetV2          54336736             0.886990\n",
       "22        ResNet152V2          58331648             0.938272\n",
       "21          ResNet152          58370944             0.479582\n",
       "10     EfficientNetB7          64097687             0.099715\n",
       "17        NASNetLarge          84916818             0.848053"
      ]
     },
     "execution_count": 9,
     "metadata": {},
     "output_type": "execute_result"
    }
   ],
   "source": [
    "# Convert Results to DataFrame for easy viewing\n",
    "benchmark_df = pd.DataFrame(model_benchmarks)\n",
    "\n",
    "# sort in ascending order of num_model_params column\n",
    "benchmark_df.sort_values('num_model_params', inplace=True)\n",
    "\n",
    "# write results to csv file\n",
    "benchmark_df.to_csv('benchmark_df.csv', index=False)\n",
    "benchmark_df"
   ]
  },
  {
   "cell_type": "markdown",
   "metadata": {},
   "source": [
    "#### Plot"
   ]
  },
  {
   "cell_type": "code",
   "execution_count": 10,
   "metadata": {},
   "outputs": [
    {
     "data": {
      "image/png": "[encoded data removed]",
      "text/plain": [
       "<Figure size 504x360 with 1 Axes>"
      ]
     },
     "metadata": {
      "needs_background": "light"
     },
     "output_type": "display_data"
    }
   ],
   "source": [
    "\n",
    "# Loop over each row and plot the num_model_params vs validation_accuracy\n",
    "markers=[\".\",\",\",\"o\",\"v\",\"^\",\"<\",\">\",\"1\",\"2\",\"3\",\"4\",\"8\",\"s\",\"p\",\"P\",\"*\",\"h\",\"H\",\"+\",\"x\",\"X\",\"D\",\"d\",\"|\",\"_\",4,5,6,7,8,9,10,11]\n",
    "plt.figure(figsize=(7,5))\n",
    "\n",
    "for row in benchmark_df.itertuples():\n",
    "    plt.scatter(row.num_model_params, row.validation_accuracy, label=row.model_name, marker=markers[row.Index], s=150, linewidths=2)\n",
    "    \n",
    "plt.xscale('log')\n",
    "plt.xlabel('Number of Parameters in Model')\n",
    "plt.ylabel('Validation Accuracy after 3 Epochs')\n",
    "plt.title('Accuracy vs Model Size')\n",
    "\n",
    "# Move legend out of the plot\n",
    "plt.legend(bbox_to_anchor=(1, 1), loc='upper left');"
   ]
  },
  {
   "cell_type": "code",
   "execution_count": null,
   "metadata": {},
   "outputs": [],
   "source": []
  }
 ],
 "metadata": {
  "kernelspec": {
   "display_name": "Python 3.9.7 64-bit ('base')",
   "language": "python",
   "name": "python3"
  },
  "language_info": {
   "codemirror_mode": {
    "name": "ipython",
    "version": 3
   },
   "file_extension": ".py",
   "mimetype": "text/x-python",
   "name": "python",
   "nbconvert_exporter": "python",
   "pygments_lexer": "ipython3",
   "version": "3.9.7"
  },
  "orig_nbformat": 4,
  "vscode": {
   "interpreter": {
    "hash": "7b970b7a662f2829338ba55f6328292a6e42d034ae4162d422cebd0326094705"
   }
  }
 },
 "nbformat": 4,
 "nbformat_minor": 2
}
